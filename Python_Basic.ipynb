{
  "nbformat": 4,
  "nbformat_minor": 0,
  "metadata": {
    "colab": {
      "provenance": []
    },
    "kernelspec": {
      "name": "python3",
      "display_name": "Python 3"
    },
    "language_info": {
      "name": "python"
    }
  },
  "cells": [
    {
      "cell_type": "markdown",
      "source": [],
      "metadata": {
        "id": "qF0LPX0TdVPw"
      }
    },
    {
      "cell_type": "markdown",
      "source": [
        "# Python Basic Questions\n",
        "\n",
        "1. What is Python, and why is it popular?\n",
        "   - Python is a high level,  interpreted programming language known for its simplicity and readability. It is popular because of its simplicity, versatility, and strong community support.\n",
        "\n",
        "2. What is an interpreter in Python?\n",
        "   - An interpreter is a program that reads and executes Python code line by line, translating it into machine readable bytecode and then executing that bytecode.\n",
        "\n",
        "3. What are pre-defined keywords in Python?\n",
        "   - Pre defined keywords are reserved words in Python that have special meanings and can't be used as variable names.\n",
        "   Examples - if, else, elif, while, and, True, False etc.\n",
        "\n",
        "4. Can keywords be used as variable names?\n",
        "   - No, keywords can't be used as variable names because they are reserved for specific functions.\n",
        "\n",
        "5. What is mutability in Python?\n",
        "   - Mutability refers to whether an object can be modified after its creation because Mutable objects can change their values.\n",
        "\n",
        "6. Why are lists mutable, but tuples are immutable?\n",
        "   - Lists are mutable because they allow modification, addition, and deletion of elements whereas Tuples are immutable because their values can't be changed after creation.\n",
        "\n",
        "7. What is the difference between “==” and “is” operators in Python?\n",
        "   - \"==\" operator compares value, checks if they are equal, whereas \"is\" operator compares memory location, checks if they are the same object in memory.\n",
        "\n",
        "8. What are logical operators in Python?\n",
        "   - These are used to perform Logical Operations.\n",
        "   \"And Operator\" - It returns 'True' if both conditions are true.\n",
        "   \"Or Operator\" - It returns 'True' if atleast one condition is true.\n",
        "\n",
        "9. What is type casting in Python?\n",
        "   - Type casting converts one data type into another.\n",
        "\n",
        "10. What is the difference between implicit and explicit type casting?\n",
        "   - Implicit type casting happens automatically when converting data types, while explicit type casting requires a manual instruction from the programmer to convert a value from one type to another.\n",
        "\n",
        "11. What is the purpose of conditional statements in Python?\n",
        "   - Conditional statements allow decision making in code execution. They help control the flow of execution based on conditions.\n",
        "\n",
        "12. How does the elif statement work?\n",
        "   - The elif statement stands for \"else if\" and is used when there are multiple conditions to check.\n",
        "\n",
        "13. What is the difference between for and while loops?\n",
        "   - For loops are used for iterating over a sequence, like a list or string.\n",
        "   While loops execute a block of code repeatedly as long as a condition remains true.\n",
        "\n",
        "14.  Describe a scenario where a while loop is more suitable than a for loop?\n",
        "   - A while loop is better when the number of iterations is unknown, such as waiting for user input.      "
      ],
      "metadata": {
        "id": "u_96CNIXdXoQ"
      }
    },
    {
      "cell_type": "code",
      "source": [
        "#PRACTICAL QUESTIONS\n",
        "\n",
        "#Write a Python program to print \"Hello, World!\n",
        "\n",
        "print (\"Hello, World\")"
      ],
      "metadata": {
        "colab": {
          "base_uri": "https://localhost:8080/"
        },
        "id": "H1jKrznqlS9k",
        "outputId": "54627d35-f472-47d6-a027-e0061ad88dd8"
      },
      "execution_count": null,
      "outputs": [
        {
          "output_type": "stream",
          "name": "stdout",
          "text": [
            "Hello, World\n"
          ]
        }
      ]
    },
    {
      "cell_type": "code",
      "source": [
        "#Write a Python program that displays your name and age.\n",
        "\n",
        "name = \"Anas Ansari\"\n",
        "age = \"25\"\n",
        "print(name)\n",
        "print(age)"
      ],
      "metadata": {
        "colab": {
          "base_uri": "https://localhost:8080/"
        },
        "id": "cOCM0S_qmJDs",
        "outputId": "e0c587a8-3c40-4fa7-d099-d5044227f052"
      },
      "execution_count": null,
      "outputs": [
        {
          "output_type": "stream",
          "name": "stdout",
          "text": [
            "Anas Ansari\n",
            "25\n"
          ]
        }
      ]
    },
    {
      "cell_type": "code",
      "source": [
        "# Write code to print all the pre-defined keywords in Python using a keyword library.\n",
        "\n",
        "import keyword\n",
        "print (keyword.kwlist)\n",
        "\n"
      ],
      "metadata": {
        "colab": {
          "base_uri": "https://localhost:8080/"
        },
        "id": "Q60efu_0ngAf",
        "outputId": "c19a4036-609b-4ace-a5bc-b9f32b4aa7db"
      },
      "execution_count": null,
      "outputs": [
        {
          "output_type": "stream",
          "name": "stdout",
          "text": [
            "['False', 'None', 'True', 'and', 'as', 'assert', 'async', 'await', 'break', 'class', 'continue', 'def', 'del', 'elif', 'else', 'except', 'finally', 'for', 'from', 'global', 'if', 'import', 'in', 'is', 'lambda', 'nonlocal', 'not', 'or', 'pass', 'raise', 'return', 'try', 'while', 'with', 'yield']\n"
          ]
        }
      ]
    },
    {
      "cell_type": "code",
      "source": [
        "# Write a program that checks if a given word is a Python keyword\n",
        "import keyword\n",
        "word = input(\"Enter a word: \")\n",
        "if keyword.iskeyword(word):\n",
        "  print (\"This word is a Python Keyword\")\n",
        "else:\n",
        "  print (\"This word is not a python keyword\")"
      ],
      "metadata": {
        "colab": {
          "base_uri": "https://localhost:8080/"
        },
        "id": "lExlH_Ie1pCK",
        "outputId": "c12047c6-eef2-459d-859d-0b40e7e077ab"
      },
      "execution_count": null,
      "outputs": [
        {
          "output_type": "stream",
          "name": "stdout",
          "text": [
            "Enter a word: elif\n",
            "This word is a Python Keyword\n"
          ]
        }
      ]
    },
    {
      "cell_type": "code",
      "source": [
        "# Create a list and tuple in Python, and demonstrate how attempting to change an element works differently\n",
        "# for each.\n",
        "\n",
        "\n",
        "# First we will create List.\n",
        "list = [10, 20, \"Suresh\", \"Ramesh\"]\n",
        "print (list)\n",
        "\n",
        "# Now we will crete Tuple.\n",
        "Tuple = (25, 35, 75, 80)\n",
        "print (Tuple)\n",
        "\n",
        "#Change Elements 1 and 2 in list\n",
        "list[1] = \"Mohan\"\n",
        "list[2] = 18\n",
        "print (list)\n",
        "\n",
        "#Change Elements in Tuple 1 and 2\n",
        "Tuple[1] = 50\n",
        "Tuple[2] = 90\n",
        "print (Tuple)\n"
      ],
      "metadata": {
        "colab": {
          "base_uri": "https://localhost:8080/",
          "height": 263
        },
        "id": "1kjmnC1v2eql",
        "outputId": "198e11af-201b-43d2-85dd-431084a0222c"
      },
      "execution_count": null,
      "outputs": [
        {
          "output_type": "stream",
          "name": "stdout",
          "text": [
            "[10, 20, 'Suresh', 'Ramesh']\n",
            "(25, 35, 75, 80)\n",
            "[10, 'Mohan', 18, 'Ramesh']\n"
          ]
        },
        {
          "output_type": "error",
          "ename": "TypeError",
          "evalue": "'tuple' object does not support item assignment",
          "traceback": [
            "\u001b[0;31m---------------------------------------------------------------------------\u001b[0m",
            "\u001b[0;31mTypeError\u001b[0m                                 Traceback (most recent call last)",
            "\u001b[0;32m<ipython-input-19-dbbf3a15a29b>\u001b[0m in \u001b[0;36m<cell line: 0>\u001b[0;34m()\u001b[0m\n\u001b[1;32m     17\u001b[0m \u001b[0;34m\u001b[0m\u001b[0m\n\u001b[1;32m     18\u001b[0m \u001b[0;31m#Change Elements in Tuple 1 and 2\u001b[0m\u001b[0;34m\u001b[0m\u001b[0;34m\u001b[0m\u001b[0m\n\u001b[0;32m---> 19\u001b[0;31m \u001b[0mTuple\u001b[0m\u001b[0;34m[\u001b[0m\u001b[0;36m1\u001b[0m\u001b[0;34m]\u001b[0m \u001b[0;34m=\u001b[0m \u001b[0;36m50\u001b[0m\u001b[0;34m\u001b[0m\u001b[0;34m\u001b[0m\u001b[0m\n\u001b[0m\u001b[1;32m     20\u001b[0m \u001b[0mTuple\u001b[0m\u001b[0;34m[\u001b[0m\u001b[0;36m2\u001b[0m\u001b[0;34m]\u001b[0m \u001b[0;34m=\u001b[0m \u001b[0;36m90\u001b[0m\u001b[0;34m\u001b[0m\u001b[0;34m\u001b[0m\u001b[0m\n\u001b[1;32m     21\u001b[0m \u001b[0mprint\u001b[0m \u001b[0;34m(\u001b[0m\u001b[0mTuple\u001b[0m\u001b[0;34m)\u001b[0m\u001b[0;34m\u001b[0m\u001b[0;34m\u001b[0m\u001b[0m\n",
            "\u001b[0;31mTypeError\u001b[0m: 'tuple' object does not support item assignment"
          ]
        }
      ]
    },
    {
      "cell_type": "code",
      "source": [
        "# Write a function to demonstrate the behavior of mutable and immutable arguments.\n",
        "\n",
        "x = 30\n",
        "x+= 20\n",
        "print(x) #this change only happens inside the function, outside the function x is still 30 because numbers are immutable\n",
        "\n",
        "a = [2, 5, 8]\n",
        "a.append(9)\n",
        "print (a) #this changes happen in the original list, so this is the function now\n",
        "#OR\n",
        "a[1]= 6\n",
        "print(a)\n",
        "\n",
        "\n"
      ],
      "metadata": {
        "colab": {
          "base_uri": "https://localhost:8080/"
        },
        "id": "Uq05BvzjQxrP",
        "outputId": "b2eda2e7-5c87-4c15-d03d-897c45250bbb"
      },
      "execution_count": null,
      "outputs": [
        {
          "output_type": "stream",
          "name": "stdout",
          "text": [
            "50\n",
            "[2, 5, 8, 9]\n",
            "[2, 6, 8, 9]\n"
          ]
        }
      ]
    },
    {
      "cell_type": "code",
      "source": [
        "# Write a program that performs basic arithmetic operations on two user-input numbers\n",
        "\n",
        "num1 = float(input(\"Enter the first number: \"))\n",
        "num2 = float(input(\"Enter the second number: \"))\n",
        "addition = num1 + num2\n",
        "substraction = num1 - num2\n",
        "multiplication = num1 * num2\n",
        "\n",
        "print (addition)\n",
        "print (substraction)\n",
        "print (multiplication)\n",
        "if num2!= 0:\n",
        "  division = num1 / num2\n",
        "else:\n",
        "  division = (\"Undefined\")\n",
        "print (division)\n"
      ],
      "metadata": {
        "colab": {
          "base_uri": "https://localhost:8080/"
        },
        "id": "-CeuX0UYWYpV",
        "outputId": "cabf640b-ace5-4d2f-b641-ac20871664e5"
      },
      "execution_count": null,
      "outputs": [
        {
          "output_type": "stream",
          "name": "stdout",
          "text": [
            "Enter the first number: 12\n",
            "Enter the second number: 0\n",
            "12.0\n",
            "12.0\n",
            "0.0\n",
            "Undefined\n"
          ]
        }
      ]
    },
    {
      "cell_type": "code",
      "source": [
        "#  Write a program to demonstrate the use of logical operators.\n",
        "a = int(input(\"Enter a number: \"))\n",
        "x = a > 0 and a < 10\n",
        "y = a < 0 or a > 10\n",
        "z = not (a ==5)\n",
        "print (x)\n",
        "print (y)\n",
        "print (z)\n",
        "\n"
      ],
      "metadata": {
        "id": "TjwxkqBzedHO",
        "colab": {
          "base_uri": "https://localhost:8080/"
        },
        "outputId": "b33fbf5a-f122-405b-b0ea-bd560cdb80db"
      },
      "execution_count": 15,
      "outputs": [
        {
          "output_type": "stream",
          "name": "stdout",
          "text": [
            "Enter a number: 5\n",
            "True\n",
            "False\n",
            "False\n"
          ]
        }
      ]
    },
    {
      "cell_type": "code",
      "source": [
        "# Write a Python program to convert user input from string to integer, float, and boolean types.\n",
        "a = input(\"Enter a number: \")\n",
        "b = int(a)\n",
        "c = float(a)\n",
        "d = bool(a)\n",
        "print (b)\n",
        "print (c)\n",
        "print (d)\n",
        "\n",
        "\n"
      ],
      "metadata": {
        "colab": {
          "base_uri": "https://localhost:8080/"
        },
        "id": "z0SRoSuF9lNq",
        "outputId": "2557cd05-5cf2-4788-f789-66ac76ffa032"
      },
      "execution_count": 21,
      "outputs": [
        {
          "output_type": "stream",
          "name": "stdout",
          "text": [
            "Enter a number: 11\n",
            "11\n",
            "11.0\n",
            "True\n"
          ]
        }
      ]
    },
    {
      "cell_type": "code",
      "source": [
        "#Write code to demonstrate type casting with list elements.\n",
        "list1 = [15, 20, 16, 19]\n",
        "converted_list = [float(i) for i in list1]\n",
        "print (converted_list)\n",
        "\n",
        "converted_list2 = [str(i) for i in list1]\n",
        "print (converted_list2)\n",
        "\n",
        "converted_list3 = [bool(i) for i in list1]\n",
        "print (converted_list3)\n"
      ],
      "metadata": {
        "colab": {
          "base_uri": "https://localhost:8080/"
        },
        "id": "EqK__jtl9lim",
        "outputId": "3f0a4ae9-bd11-4b69-9a03-ab41ef6aaf68"
      },
      "execution_count": 26,
      "outputs": [
        {
          "output_type": "stream",
          "name": "stdout",
          "text": [
            "[15.0, 20.0, 16.0, 19.0]\n",
            "['15', '20', '16', '19']\n",
            "[True, True, True, True]\n"
          ]
        }
      ]
    },
    {
      "cell_type": "code",
      "source": [
        "# Write a program that checks if a number is positive, negative, or zero.\n",
        "num = int(input(\"Enter a number: \" ))\n",
        "if num > 0:\n",
        "  print(\"The number is positive\")\n",
        "elif num < 0:\n",
        "  print(\"The number is negative\")\n",
        "else:\n",
        "  print(\"The number is zero\")\n",
        "\n",
        ""
      ],
      "metadata": {
        "colab": {
          "base_uri": "https://localhost:8080/"
        },
        "id": "jzDJ9dzS9l6h",
        "outputId": "3857721f-6107-4f60-f13a-bc1e475bfc1e"
      },
      "execution_count": 29,
      "outputs": [
        {
          "output_type": "stream",
          "name": "stdout",
          "text": [
            "Enter a number: -8\n",
            "The number is negative\n"
          ]
        }
      ]
    },
    {
      "cell_type": "code",
      "source": [
        "#Write a for loop to print numbers from 1 to 10.\n",
        "for i in range(1,11):\n",
        "  print (i)\n",
        "\n"
      ],
      "metadata": {
        "colab": {
          "base_uri": "https://localhost:8080/"
        },
        "id": "0iq99DwyQ7I7",
        "outputId": "da364c4b-4530-4d54-bdf3-d36d6a2ca1bc"
      },
      "execution_count": 31,
      "outputs": [
        {
          "output_type": "stream",
          "name": "stdout",
          "text": [
            "1\n",
            "2\n",
            "3\n",
            "4\n",
            "5\n",
            "6\n",
            "7\n",
            "8\n",
            "9\n",
            "10\n"
          ]
        }
      ]
    },
    {
      "cell_type": "code",
      "source": [
        "#Write a Python program to find the sum of all even numbers between 1 and 50.\n",
        "\n",
        "even_sum = sum(i for i in range(1,51))\n",
        "if i % 2 == 0:\n",
        "  print (even_sum)"
      ],
      "metadata": {
        "colab": {
          "base_uri": "https://localhost:8080/"
        },
        "id": "AEun28pdQ7m_",
        "outputId": "5eecfb77-c8ba-4082-c833-b87088f01933"
      },
      "execution_count": 32,
      "outputs": [
        {
          "output_type": "stream",
          "name": "stdout",
          "text": [
            "1275\n"
          ]
        }
      ]
    },
    {
      "cell_type": "code",
      "source": [
        "#Write a program to reverse a string using a while loop.\n",
        "a = input(\"Enter a string: \")\n",
        "reversed_a = \" \"\n",
        "i = len(a) - 1\n",
        "\n",
        "while i >= 0:\n",
        "  reversed_a += a[i]\n",
        "  i -= 1\n",
        "\n",
        "print (\"Reversed String is: \", reversed_a)\n"
      ],
      "metadata": {
        "colab": {
          "base_uri": "https://localhost:8080/"
        },
        "id": "_K1r0GL4SdL5",
        "outputId": "864200e0-aac9-4831-9d33-653d72766f81"
      },
      "execution_count": 38,
      "outputs": [
        {
          "output_type": "stream",
          "name": "stdout",
          "text": [
            "Enter a string: Hello Brother\n",
            "Reversed String is:   rehtorB olleH\n"
          ]
        }
      ]
    },
    {
      "cell_type": "code",
      "source": [
        "#Write a Python program to calculate the factorial of a number provided by the user using a while loop.\n",
        "\n",
        "num = int(input(\"Enter a number: \"))\n",
        "factorial = 1\n",
        "i = num\n",
        "\n",
        "while i > 1:\n",
        "  factorial *= i\n",
        "  i -= 1\n",
        "\n",
        "print (f\"Factorial of {num} is {factorial}\")\n"
      ],
      "metadata": {
        "colab": {
          "base_uri": "https://localhost:8080/"
        },
        "id": "d5IQgrtPSdWX",
        "outputId": "1f7721f3-42ee-4436-8f60-cdf56f5521ad"
      },
      "execution_count": 40,
      "outputs": [
        {
          "output_type": "stream",
          "name": "stdout",
          "text": [
            "Enter a number: 15\n",
            "Factorial of 15 is 1307674368000\n"
          ]
        }
      ]
    }
  ]
}